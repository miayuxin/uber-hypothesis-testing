{
  "cells": [
    {
      "cell_type": "markdown",
      "metadata": {
        "id": "Izd2YXDdCg--",
        "colab_type": "text"
      },
      "source": [
        "# **Hypothesis Testing for SFO and LAX Marketing Campaigns**\n",
        "\n",
        "## Part 1 - SFO\n",
        "\n",
        "## Part 2 - LAX\n",
        "\n",
        "## Part 3 - Conclusion\n",
        "\n",
        "\n",
        "Author: Mia (Yuhsin Hou)"
      ]
    },
    {
      "cell_type": "markdown",
      "metadata": {
        "id": "ijYfheZvHhPR",
        "colab_type": "text"
      },
      "source": [
        "# In this analysis, I will analyze the SFO and LAX data sets and determine if either marketing campaign was successful in raising the average miles driven per Uber driver."
      ]
    },
    {
      "cell_type": "markdown",
      "metadata": {
        "id": "p1-8AochFN9t",
        "colab_type": "text"
      },
      "source": [
        "# Import all libraries"
      ]
    },
    {
      "cell_type": "code",
      "metadata": {
        "id": "mGSyCve7FUO6",
        "colab_type": "code",
        "colab": {}
      },
      "source": [
        "import numpy as np\n",
        "import pandas as pd\n",
        "import os\n",
        "import seaborn as sns\n",
        "from matplotlib import pyplot as plt\n",
        "from pylab import rcParams\n",
        "\n",
        "\n",
        "from scipy.stats import f_oneway\n",
        "\n",
        "\n",
        "rcParams['figure.figsize'] = (20, 8)\n",
        "sns.set_style('darkgrid')\n",
        "plt.style.use('seaborn-darkgrid')"
      ],
      "execution_count": 0,
      "outputs": []
    },
    {
      "cell_type": "markdown",
      "metadata": {
        "id": "ROZfGk61FX8w",
        "colab_type": "text"
      },
      "source": [
        "# **Part 1 - SFO**"
      ]
    },
    {
      "cell_type": "markdown",
      "metadata": {
        "id": "qwNIvbz3Lhwc",
        "colab_type": "text"
      },
      "source": [
        "# **1.1 - Data Acquisition and Simple Exploration**"
      ]
    },
    {
      "cell_type": "markdown",
      "metadata": {
        "id": "i2mUf-nkFnvF",
        "colab_type": "text"
      },
      "source": [
        "## Load Data"
      ]
    },
    {
      "cell_type": "code",
      "metadata": {
        "id": "llKuAd75C1Gp",
        "colab_type": "code",
        "colab": {}
      },
      "source": [
        "# Read data from Google Sheet\n",
        "SFO_data_path = \"https://docs.google.com/spreadsheets/d/e/2PACX-1vTwjTt9q4XsFNMG0iRbQXYs3Wy0_7BQ2fKGyfoj_8haKirgczXwmrH3O7W5QZbyIELWfdYSzNLq7lkq/pub?gid=163491843&single=true&output=csv\"\n",
        "sfo_df = pd.read_csv(SFO_data_path)"
      ],
      "execution_count": 0,
      "outputs": []
    },
    {
      "cell_type": "code",
      "metadata": {
        "id": "sklwSDRmGPQX",
        "colab_type": "code",
        "colab": {
          "base_uri": "https://localhost:8080/",
          "height": 204
        },
        "outputId": "97737519-f5e2-4ce9-e824-2d64a9e34470"
      },
      "source": [
        "sfo_df.tail()"
      ],
      "execution_count": 76,
      "outputs": [
        {
          "output_type": "execute_result",
          "data": {
            "text/html": [
              "<div>\n",
              "<style scoped>\n",
              "    .dataframe tbody tr th:only-of-type {\n",
              "        vertical-align: middle;\n",
              "    }\n",
              "\n",
              "    .dataframe tbody tr th {\n",
              "        vertical-align: top;\n",
              "    }\n",
              "\n",
              "    .dataframe thead th {\n",
              "        text-align: right;\n",
              "    }\n",
              "</style>\n",
              "<table border=\"1\" class=\"dataframe\">\n",
              "  <thead>\n",
              "    <tr style=\"text-align: right;\">\n",
              "      <th></th>\n",
              "      <th>Date</th>\n",
              "      <th>SFO - Avg. Daily Miles Driven Per Hour</th>\n",
              "      <th>Marketing_Campaign</th>\n",
              "    </tr>\n",
              "  </thead>\n",
              "  <tbody>\n",
              "    <tr>\n",
              "      <th>98</th>\n",
              "      <td>12/21/2019</td>\n",
              "      <td>7.957614</td>\n",
              "      <td>1</td>\n",
              "    </tr>\n",
              "    <tr>\n",
              "      <th>99</th>\n",
              "      <td>12/22/2019</td>\n",
              "      <td>65.703275</td>\n",
              "      <td>1</td>\n",
              "    </tr>\n",
              "    <tr>\n",
              "      <th>100</th>\n",
              "      <td>12/23/2019</td>\n",
              "      <td>100.402166</td>\n",
              "      <td>1</td>\n",
              "    </tr>\n",
              "    <tr>\n",
              "      <th>101</th>\n",
              "      <td>12/24/2019</td>\n",
              "      <td>106.037168</td>\n",
              "      <td>0</td>\n",
              "    </tr>\n",
              "    <tr>\n",
              "      <th>102</th>\n",
              "      <td>12/25/2019</td>\n",
              "      <td>104.130112</td>\n",
              "      <td>0</td>\n",
              "    </tr>\n",
              "  </tbody>\n",
              "</table>\n",
              "</div>"
            ],
            "text/plain": [
              "           Date  SFO - Avg. Daily Miles Driven Per Hour  Marketing_Campaign\n",
              "98   12/21/2019                                7.957614                   1\n",
              "99   12/22/2019                               65.703275                   1\n",
              "100  12/23/2019                              100.402166                   1\n",
              "101  12/24/2019                              106.037168                   0\n",
              "102  12/25/2019                              104.130112                   0"
            ]
          },
          "metadata": {
            "tags": []
          },
          "execution_count": 76
        }
      ]
    },
    {
      "cell_type": "code",
      "metadata": {
        "id": "0vmjHcoiQLVp",
        "colab_type": "code",
        "colab": {
          "base_uri": "https://localhost:8080/",
          "height": 34
        },
        "outputId": "cd21dc84-765a-43d6-842f-bb81f18b6688"
      },
      "source": [
        "list(sfo_df)"
      ],
      "execution_count": 77,
      "outputs": [
        {
          "output_type": "execute_result",
          "data": {
            "text/plain": [
              "['Date', 'SFO - Avg. Daily Miles Driven Per Hour', 'Marketing_Campaign']"
            ]
          },
          "metadata": {
            "tags": []
          },
          "execution_count": 77
        }
      ]
    },
    {
      "cell_type": "markdown",
      "metadata": {
        "id": "7X2nGuciGZN1",
        "colab_type": "text"
      },
      "source": [
        "## Feature Definitions:\n",
        "- Date: the date that the observation was recorded.\n",
        "- SFO - Avg. Daily Miles Driven Per Hour: the avarage of daily miles driven per hour. \n",
        "- Marketing_Campaign: a binary field that is set to either 1 for when the marketing campaigns were active or 0 for when the marketing campaigns were deactivated."
      ]
    },
    {
      "cell_type": "markdown",
      "metadata": {
        "id": "39FsjmLZI3zI",
        "colab_type": "text"
      },
      "source": [
        "## Test Setup:\n",
        "- The Null Hypothesis (H0): the average daily miles driven per hour when the marketing campaign was in service is the same as the average daily miles driven per hour when the marketing campaign was not in action.\n",
        "\n",
        "- The Alternate Hypothesis (H1): the average daily miles driven per hour when the marketing campaign was in service is greater than the average daily miles driven per hour when the marketing campaign was not in action.\n",
        "\n",
        "The p-value will be set to .05"
      ]
    },
    {
      "cell_type": "markdown",
      "metadata": {
        "id": "bDGKadRKQX_1",
        "colab_type": "text"
      },
      "source": [
        "## SFO Quantitative Variable Overview"
      ]
    },
    {
      "cell_type": "code",
      "metadata": {
        "id": "VHXE6ntUGUNI",
        "colab_type": "code",
        "colab": {
          "base_uri": "https://localhost:8080/",
          "height": 297
        },
        "outputId": "3fc70bea-38c2-422d-f009-751f31b6b141"
      },
      "source": [
        "sfo_df.describe()"
      ],
      "execution_count": 78,
      "outputs": [
        {
          "output_type": "execute_result",
          "data": {
            "text/html": [
              "<div>\n",
              "<style scoped>\n",
              "    .dataframe tbody tr th:only-of-type {\n",
              "        vertical-align: middle;\n",
              "    }\n",
              "\n",
              "    .dataframe tbody tr th {\n",
              "        vertical-align: top;\n",
              "    }\n",
              "\n",
              "    .dataframe thead th {\n",
              "        text-align: right;\n",
              "    }\n",
              "</style>\n",
              "<table border=\"1\" class=\"dataframe\">\n",
              "  <thead>\n",
              "    <tr style=\"text-align: right;\">\n",
              "      <th></th>\n",
              "      <th>SFO - Avg. Daily Miles Driven Per Hour</th>\n",
              "      <th>Marketing_Campaign</th>\n",
              "    </tr>\n",
              "  </thead>\n",
              "  <tbody>\n",
              "    <tr>\n",
              "      <th>count</th>\n",
              "      <td>103.000000</td>\n",
              "      <td>103.000000</td>\n",
              "    </tr>\n",
              "    <tr>\n",
              "      <th>mean</th>\n",
              "      <td>58.372330</td>\n",
              "      <td>0.281553</td>\n",
              "    </tr>\n",
              "    <tr>\n",
              "      <th>std</th>\n",
              "      <td>32.287660</td>\n",
              "      <td>0.451956</td>\n",
              "    </tr>\n",
              "    <tr>\n",
              "      <th>min</th>\n",
              "      <td>3.006834</td>\n",
              "      <td>0.000000</td>\n",
              "    </tr>\n",
              "    <tr>\n",
              "      <th>25%</th>\n",
              "      <td>35.583179</td>\n",
              "      <td>0.000000</td>\n",
              "    </tr>\n",
              "    <tr>\n",
              "      <th>50%</th>\n",
              "      <td>64.247011</td>\n",
              "      <td>0.000000</td>\n",
              "    </tr>\n",
              "    <tr>\n",
              "      <th>75%</th>\n",
              "      <td>83.372998</td>\n",
              "      <td>1.000000</td>\n",
              "    </tr>\n",
              "    <tr>\n",
              "      <th>max</th>\n",
              "      <td>133.053759</td>\n",
              "      <td>1.000000</td>\n",
              "    </tr>\n",
              "  </tbody>\n",
              "</table>\n",
              "</div>"
            ],
            "text/plain": [
              "       SFO - Avg. Daily Miles Driven Per Hour  Marketing_Campaign\n",
              "count                              103.000000          103.000000\n",
              "mean                                58.372330            0.281553\n",
              "std                                 32.287660            0.451956\n",
              "min                                  3.006834            0.000000\n",
              "25%                                 35.583179            0.000000\n",
              "50%                                 64.247011            0.000000\n",
              "75%                                 83.372998            1.000000\n",
              "max                                133.053759            1.000000"
            ]
          },
          "metadata": {
            "tags": []
          },
          "execution_count": 78
        }
      ]
    },
    {
      "cell_type": "markdown",
      "metadata": {
        "id": "eMlH55QoTLvj",
        "colab_type": "text"
      },
      "source": [
        "## Remove Outliers"
      ]
    },
    {
      "cell_type": "code",
      "metadata": {
        "id": "3hKGF_9oTOfG",
        "colab_type": "code",
        "colab": {
          "base_uri": "https://localhost:8080/",
          "height": 51
        },
        "outputId": "b5fe9e23-b136-4459-b1e5-fa661cdc468f"
      },
      "source": [
        "# Trimming off the outliers of the distribution.\n",
        "starting_percentile = sfo_df['SFO - Avg. Daily Miles Driven Per Hour'].quantile(.01)\n",
        "ending_percentile = sfo_df['SFO - Avg. Daily Miles Driven Per Hour'].quantile(.99)\n",
        "\n",
        "print(\"Starting percentile: \", starting_percentile)\n",
        "print(\"Ending percentile: \", ending_percentile)"
      ],
      "execution_count": 79,
      "outputs": [
        {
          "output_type": "stream",
          "text": [
            "Starting percentile:  3.9653772535\n",
            "Ending percentile:  114.04905323600003\n"
          ],
          "name": "stdout"
        }
      ]
    },
    {
      "cell_type": "markdown",
      "metadata": {
        "id": "azAL1CVHTvAn",
        "colab_type": "text"
      },
      "source": [
        "The outliers are loaded into a dataframe for future analysis. \n",
        "\n",
        "A summary of the dataframe contents can be found below."
      ]
    },
    {
      "cell_type": "code",
      "metadata": {
        "id": "0GZIDNfSTqWR",
        "colab_type": "code",
        "colab": {
          "base_uri": "https://localhost:8080/",
          "height": 297
        },
        "outputId": "97fd1197-593b-4e3f-8b34-6f075c39edc9"
      },
      "source": [
        "sfo_df_outliers = sfo_df.loc[((sfo_df['SFO - Avg. Daily Miles Driven Per Hour'] <= starting_percentile) | (sfo_df['SFO - Avg. Daily Miles Driven Per Hour'] >= ending_percentile))]\n",
        "sfo_df_outliers['SFO - Avg. Daily Miles Driven Per Hour'].describe().to_frame()"
      ],
      "execution_count": 80,
      "outputs": [
        {
          "output_type": "execute_result",
          "data": {
            "text/html": [
              "<div>\n",
              "<style scoped>\n",
              "    .dataframe tbody tr th:only-of-type {\n",
              "        vertical-align: middle;\n",
              "    }\n",
              "\n",
              "    .dataframe tbody tr th {\n",
              "        vertical-align: top;\n",
              "    }\n",
              "\n",
              "    .dataframe thead th {\n",
              "        text-align: right;\n",
              "    }\n",
              "</style>\n",
              "<table border=\"1\" class=\"dataframe\">\n",
              "  <thead>\n",
              "    <tr style=\"text-align: right;\">\n",
              "      <th></th>\n",
              "      <th>SFO - Avg. Daily Miles Driven Per Hour</th>\n",
              "    </tr>\n",
              "  </thead>\n",
              "  <tbody>\n",
              "    <tr>\n",
              "      <th>count</th>\n",
              "      <td>4.000000</td>\n",
              "    </tr>\n",
              "    <tr>\n",
              "      <th>mean</th>\n",
              "      <td>63.553627</td>\n",
              "    </tr>\n",
              "    <tr>\n",
              "      <th>std</th>\n",
              "      <td>69.800031</td>\n",
              "    </tr>\n",
              "    <tr>\n",
              "      <th>min</th>\n",
              "      <td>3.006834</td>\n",
              "    </tr>\n",
              "    <tr>\n",
              "      <th>25%</th>\n",
              "      <td>3.707725</td>\n",
              "    </tr>\n",
              "    <tr>\n",
              "      <th>50%</th>\n",
              "      <td>59.076958</td>\n",
              "    </tr>\n",
              "    <tr>\n",
              "      <th>75%</th>\n",
              "      <td>118.922861</td>\n",
              "    </tr>\n",
              "    <tr>\n",
              "      <th>max</th>\n",
              "      <td>133.053759</td>\n",
              "    </tr>\n",
              "  </tbody>\n",
              "</table>\n",
              "</div>"
            ],
            "text/plain": [
              "       SFO - Avg. Daily Miles Driven Per Hour\n",
              "count                                4.000000\n",
              "mean                                63.553627\n",
              "std                                 69.800031\n",
              "min                                  3.006834\n",
              "25%                                  3.707725\n",
              "50%                                 59.076958\n",
              "75%                                118.922861\n",
              "max                                133.053759"
            ]
          },
          "metadata": {
            "tags": []
          },
          "execution_count": 80
        }
      ]
    },
    {
      "cell_type": "markdown",
      "metadata": {
        "id": "f0GKKY6LURw_",
        "colab_type": "text"
      },
      "source": [
        "Create a dataframe that has the outliers removed."
      ]
    },
    {
      "cell_type": "code",
      "metadata": {
        "id": "Zs0kEnLxUT8A",
        "colab_type": "code",
        "colab": {
          "base_uri": "https://localhost:8080/",
          "height": 297
        },
        "outputId": "878f3b03-b455-403e-d6d7-ea213ac19b95"
      },
      "source": [
        "sfo_df_trimmed = sfo_df.loc[((sfo_df['SFO - Avg. Daily Miles Driven Per Hour'] > starting_percentile) & (sfo_df['SFO - Avg. Daily Miles Driven Per Hour'] < ending_percentile))]\n",
        "sfo_df_trimmed.describe()"
      ],
      "execution_count": 81,
      "outputs": [
        {
          "output_type": "execute_result",
          "data": {
            "text/html": [
              "<div>\n",
              "<style scoped>\n",
              "    .dataframe tbody tr th:only-of-type {\n",
              "        vertical-align: middle;\n",
              "    }\n",
              "\n",
              "    .dataframe tbody tr th {\n",
              "        vertical-align: top;\n",
              "    }\n",
              "\n",
              "    .dataframe thead th {\n",
              "        text-align: right;\n",
              "    }\n",
              "</style>\n",
              "<table border=\"1\" class=\"dataframe\">\n",
              "  <thead>\n",
              "    <tr style=\"text-align: right;\">\n",
              "      <th></th>\n",
              "      <th>SFO - Avg. Daily Miles Driven Per Hour</th>\n",
              "      <th>Marketing_Campaign</th>\n",
              "    </tr>\n",
              "  </thead>\n",
              "  <tbody>\n",
              "    <tr>\n",
              "      <th>count</th>\n",
              "      <td>99.000000</td>\n",
              "      <td>99.000000</td>\n",
              "    </tr>\n",
              "    <tr>\n",
              "      <th>mean</th>\n",
              "      <td>58.162985</td>\n",
              "      <td>0.272727</td>\n",
              "    </tr>\n",
              "    <tr>\n",
              "      <th>std</th>\n",
              "      <td>30.573836</td>\n",
              "      <td>0.447628</td>\n",
              "    </tr>\n",
              "    <tr>\n",
              "      <th>min</th>\n",
              "      <td>5.142456</td>\n",
              "      <td>0.000000</td>\n",
              "    </tr>\n",
              "    <tr>\n",
              "      <th>25%</th>\n",
              "      <td>39.216422</td>\n",
              "      <td>0.000000</td>\n",
              "    </tr>\n",
              "    <tr>\n",
              "      <th>50%</th>\n",
              "      <td>64.247011</td>\n",
              "      <td>0.000000</td>\n",
              "    </tr>\n",
              "    <tr>\n",
              "      <th>75%</th>\n",
              "      <td>83.081313</td>\n",
              "      <td>1.000000</td>\n",
              "    </tr>\n",
              "    <tr>\n",
              "      <th>max</th>\n",
              "      <td>106.037168</td>\n",
              "      <td>1.000000</td>\n",
              "    </tr>\n",
              "  </tbody>\n",
              "</table>\n",
              "</div>"
            ],
            "text/plain": [
              "       SFO - Avg. Daily Miles Driven Per Hour  Marketing_Campaign\n",
              "count                               99.000000           99.000000\n",
              "mean                                58.162985            0.272727\n",
              "std                                 30.573836            0.447628\n",
              "min                                  5.142456            0.000000\n",
              "25%                                 39.216422            0.000000\n",
              "50%                                 64.247011            0.000000\n",
              "75%                                 83.081313            1.000000\n",
              "max                                106.037168            1.000000"
            ]
          },
          "metadata": {
            "tags": []
          },
          "execution_count": 81
        }
      ]
    },
    {
      "cell_type": "markdown",
      "metadata": {
        "id": "cFEgBd0HQySF",
        "colab_type": "text"
      },
      "source": [
        "## Avg Daily Miles Driven Per Hour Distribution"
      ]
    },
    {
      "cell_type": "code",
      "metadata": {
        "id": "GdJbE-NVQS7U",
        "colab_type": "code",
        "colab": {
          "base_uri": "https://localhost:8080/",
          "height": 527
        },
        "outputId": "6ae08368-ae66-422b-fb39-61e84457c213"
      },
      "source": [
        "# Make a distribution plot.\n",
        "ax = sns.distplot(sfo_df_trimmed['SFO - Avg. Daily Miles Driven Per Hour'], bins = 8, color = '#0485d1')\n",
        "plt.figure(figsize=(23,8))"
      ],
      "execution_count": 82,
      "outputs": [
        {
          "output_type": "execute_result",
          "data": {
            "text/plain": [
              "<Figure size 1656x576 with 0 Axes>"
            ]
          },
          "metadata": {
            "tags": []
          },
          "execution_count": 82
        },
        {
          "output_type": "display_data",
          "data": {
            "image/png": "[encoded data removed]",
            "text/plain": [
              "<Figure size 1440x576 with 1 Axes>"
            ]
          },
          "metadata": {
            "tags": []
          }
        },
        {
          "output_type": "display_data",
          "data": {
            "text/plain": [
              "<Figure size 1656x576 with 0 Axes>"
            ]
          },
          "metadata": {
            "tags": []
          }
        }
      ]
    },
    {
      "cell_type": "markdown",
      "metadata": {
        "id": "OC5AzaxAvIe5",
        "colab_type": "text"
      },
      "source": [
        "## Avg Daily Miles Driven Per Hour & Marketing Campaign Distribution"
      ]
    },
    {
      "cell_type": "code",
      "metadata": {
        "id": "x2fPqvhnQ58K",
        "colab_type": "code",
        "colab": {
          "base_uri": "https://localhost:8080/",
          "height": 510
        },
        "outputId": "b35fd3bf-1ac6-428d-f108-d7aa59362dc1"
      },
      "source": [
        "data0 = sfo_df_trimmed['SFO - Avg. Daily Miles Driven Per Hour'].loc[sfo_df_trimmed['Marketing_Campaign'] == 0]\n",
        "data1 = sfo_df_trimmed['SFO - Avg. Daily Miles Driven Per Hour'].loc[sfo_df_trimmed['Marketing_Campaign'] == 1]\n",
        "\n",
        "ax = sns.distplot(data0, hist = True, color = '#d9544d')\n",
        "ax = sns.distplot(data1, hist = True, color = '#8f99fb') \n",
        "plt.legend(['Marketing Campaign NOT Deployed', 'Marketing Campaign Deployed'])"
      ],
      "execution_count": 83,
      "outputs": [
        {
          "output_type": "execute_result",
          "data": {
            "text/plain": [
              "<matplotlib.legend.Legend at 0x7f675d457f98>"
            ]
          },
          "metadata": {
            "tags": []
          },
          "execution_count": 83
        },
        {
          "output_type": "display_data",
          "data": {
            "image/png": "[encoded data removed]",
            "text/plain": [
              "<Figure size 1440x576 with 1 Axes>"
            ]
          },
          "metadata": {
            "tags": []
          }
        }
      ]
    },
    {
      "cell_type": "code",
      "metadata": {
        "id": "MoX77p53SmIj",
        "colab_type": "code",
        "colab": {
          "base_uri": "https://localhost:8080/",
          "height": 221
        },
        "outputId": "ddcf8e12-0890-4ff6-c4c9-32d06ab04b10"
      },
      "source": [
        "data0"
      ],
      "execution_count": 84,
      "outputs": [
        {
          "output_type": "execute_result",
          "data": {
            "text/plain": [
              "0       85.300304\n",
              "1       99.224113\n",
              "2       71.076322\n",
              "3       96.756869\n",
              "4       52.003619\n",
              "          ...    \n",
              "69      55.196785\n",
              "70      52.718725\n",
              "71      47.357358\n",
              "101    106.037168\n",
              "102    104.130112\n",
              "Name: SFO - Avg. Daily Miles Driven Per Hour, Length: 72, dtype: float64"
            ]
          },
          "metadata": {
            "tags": []
          },
          "execution_count": 84
        }
      ]
    },
    {
      "cell_type": "markdown",
      "metadata": {
        "id": "trByCcP_vTKf",
        "colab_type": "text"
      },
      "source": [
        "# **1.2 Hypothesis Testing Result** "
      ]
    },
    {
      "cell_type": "code",
      "metadata": {
        "id": "1MQiWUEymsc0",
        "colab_type": "code",
        "colab": {
          "base_uri": "https://localhost:8080/",
          "height": 51
        },
        "outputId": "26440dce-96af-437f-82e0-b828fb208fed"
      },
      "source": [
        "# Compare samples\n",
        "stat, p = f_oneway(data0, data1)\n",
        "print('Statistics = %.3f, p = %.3f' % (stat, p))\n",
        "\n",
        "# Interpret\n",
        "alpha = 0.05\n",
        "if p > alpha:\n",
        "\tprint('Same distributions (fail to reject H0)')\n",
        "else:\n",
        "\tprint('Different distributions (reject H0)')"
      ],
      "execution_count": 85,
      "outputs": [
        {
          "output_type": "stream",
          "text": [
            "Statistics = 61.635, p = 0.000\n",
            "Different distributions (reject H0)\n"
          ],
          "name": "stdout"
        }
      ]
    },
    {
      "cell_type": "markdown",
      "metadata": {
        "id": "FwlT8ab1t87m",
        "colab_type": "text"
      },
      "source": [
        "# **Part 2 LAX**"
      ]
    },
    {
      "cell_type": "markdown",
      "metadata": {
        "id": "ZfBN9oFHvOs1",
        "colab_type": "text"
      },
      "source": [
        "# **2.1 - Data Acquisition and Simple Exploration**"
      ]
    },
    {
      "cell_type": "markdown",
      "metadata": {
        "id": "714_uhZFwMuU",
        "colab_type": "text"
      },
      "source": [
        "## Load Data"
      ]
    },
    {
      "cell_type": "code",
      "metadata": {
        "id": "6l9Lk75cnWKz",
        "colab_type": "code",
        "colab": {}
      },
      "source": [
        "# Read data from Google Sheet\n",
        "LAX_data_path = \"https://docs.google.com/spreadsheets/d/e/2PACX-1vRV-hUcGafl3RgN254Zr9DiapxuQKy58m5LDn7gZh6KFFsnG11q318Nwb3X-VXGCjhRen2RjuP9yimB/pub?gid=868165226&single=true&output=csv\"\n",
        "lax_df = pd.read_csv(LAX_data_path)"
      ],
      "execution_count": 0,
      "outputs": []
    },
    {
      "cell_type": "code",
      "metadata": {
        "id": "FHYm1xbZw8iK",
        "colab_type": "code",
        "colab": {
          "base_uri": "https://localhost:8080/",
          "height": 204
        },
        "outputId": "66f098cc-01c5-45b7-df3e-a044ef7fc847"
      },
      "source": [
        "lax_df.tail()"
      ],
      "execution_count": 87,
      "outputs": [
        {
          "output_type": "execute_result",
          "data": {
            "text/html": [
              "<div>\n",
              "<style scoped>\n",
              "    .dataframe tbody tr th:only-of-type {\n",
              "        vertical-align: middle;\n",
              "    }\n",
              "\n",
              "    .dataframe tbody tr th {\n",
              "        vertical-align: top;\n",
              "    }\n",
              "\n",
              "    .dataframe thead th {\n",
              "        text-align: right;\n",
              "    }\n",
              "</style>\n",
              "<table border=\"1\" class=\"dataframe\">\n",
              "  <thead>\n",
              "    <tr style=\"text-align: right;\">\n",
              "      <th></th>\n",
              "      <th>Date</th>\n",
              "      <th>LAX - Avg. Daily Miles Driven Per Hour</th>\n",
              "      <th>Marketing_Campaign</th>\n",
              "    </tr>\n",
              "  </thead>\n",
              "  <tbody>\n",
              "    <tr>\n",
              "      <th>98</th>\n",
              "      <td>12/04/2019</td>\n",
              "      <td>222.963140</td>\n",
              "      <td>1</td>\n",
              "    </tr>\n",
              "    <tr>\n",
              "      <th>99</th>\n",
              "      <td>12/19/2019</td>\n",
              "      <td>232.826538</td>\n",
              "      <td>1</td>\n",
              "    </tr>\n",
              "    <tr>\n",
              "      <th>100</th>\n",
              "      <td>12/11/2019</td>\n",
              "      <td>233.716260</td>\n",
              "      <td>1</td>\n",
              "    </tr>\n",
              "    <tr>\n",
              "      <th>101</th>\n",
              "      <td>12/05/2019</td>\n",
              "      <td>242.065610</td>\n",
              "      <td>1</td>\n",
              "    </tr>\n",
              "    <tr>\n",
              "      <th>102</th>\n",
              "      <td>12/06/2019</td>\n",
              "      <td>251.119602</td>\n",
              "      <td>1</td>\n",
              "    </tr>\n",
              "  </tbody>\n",
              "</table>\n",
              "</div>"
            ],
            "text/plain": [
              "           Date  LAX - Avg. Daily Miles Driven Per Hour  Marketing_Campaign\n",
              "98   12/04/2019                              222.963140                   1\n",
              "99   12/19/2019                              232.826538                   1\n",
              "100  12/11/2019                              233.716260                   1\n",
              "101  12/05/2019                              242.065610                   1\n",
              "102  12/06/2019                              251.119602                   1"
            ]
          },
          "metadata": {
            "tags": []
          },
          "execution_count": 87
        }
      ]
    },
    {
      "cell_type": "code",
      "metadata": {
        "id": "5jBEUXiPxSBT",
        "colab_type": "code",
        "colab": {
          "base_uri": "https://localhost:8080/",
          "height": 34
        },
        "outputId": "6bbd39d3-ea5d-4d5e-e241-d132286017b3"
      },
      "source": [
        "list(lax_df)"
      ],
      "execution_count": 88,
      "outputs": [
        {
          "output_type": "execute_result",
          "data": {
            "text/plain": [
              "['Date', 'LAX - Avg. Daily Miles Driven Per Hour', 'Marketing_Campaign']"
            ]
          },
          "metadata": {
            "tags": []
          },
          "execution_count": 88
        }
      ]
    },
    {
      "cell_type": "markdown",
      "metadata": {
        "id": "mx4mHUoIxY4J",
        "colab_type": "text"
      },
      "source": [
        "## Feature Definitions:\n",
        "- Date: The date that the observation was recorded.\n",
        "- LAX - Avg. Daily Miles Driven Per Hour: The avarage of daily miles driven per hour.\n",
        "- Marketing_Campaign: A binary field that is set to either 1 for when the marketing campaigns were active or 0 for when the marketing campaigns were deactivated."
      ]
    },
    {
      "cell_type": "markdown",
      "metadata": {
        "id": "VUOQ-QcOxfcg",
        "colab_type": "text"
      },
      "source": [
        "## Test Setup:\n",
        "- The Null Hypothesis (H0): the average daily miles driven per hour when the marketing campaign was in service is the same as the average daily miles driven per hour when the marketing campaign was not in action.\n",
        "\n",
        "- The Alternate Hypothesis (H1): the average daily miles driven per hour when the marketing campaign was in service is greater than the average daily miles driven per hour when the marketing campaign was not in action.\n",
        "\n",
        "The p-value will be set to .05"
      ]
    },
    {
      "cell_type": "markdown",
      "metadata": {
        "id": "Y5gGn9Klxsw6",
        "colab_type": "text"
      },
      "source": [
        "## LAX Quantitative Variable Overview"
      ]
    },
    {
      "cell_type": "code",
      "metadata": {
        "id": "cEBHaYfMxVP3",
        "colab_type": "code",
        "colab": {
          "base_uri": "https://localhost:8080/",
          "height": 297
        },
        "outputId": "5feebb47-bfce-4edb-aedf-d2da923e8832"
      },
      "source": [
        "lax_df.describe()"
      ],
      "execution_count": 89,
      "outputs": [
        {
          "output_type": "execute_result",
          "data": {
            "text/html": [
              "<div>\n",
              "<style scoped>\n",
              "    .dataframe tbody tr th:only-of-type {\n",
              "        vertical-align: middle;\n",
              "    }\n",
              "\n",
              "    .dataframe tbody tr th {\n",
              "        vertical-align: top;\n",
              "    }\n",
              "\n",
              "    .dataframe thead th {\n",
              "        text-align: right;\n",
              "    }\n",
              "</style>\n",
              "<table border=\"1\" class=\"dataframe\">\n",
              "  <thead>\n",
              "    <tr style=\"text-align: right;\">\n",
              "      <th></th>\n",
              "      <th>LAX - Avg. Daily Miles Driven Per Hour</th>\n",
              "      <th>Marketing_Campaign</th>\n",
              "    </tr>\n",
              "  </thead>\n",
              "  <tbody>\n",
              "    <tr>\n",
              "      <th>count</th>\n",
              "      <td>103.000000</td>\n",
              "      <td>103.000000</td>\n",
              "    </tr>\n",
              "    <tr>\n",
              "      <th>mean</th>\n",
              "      <td>115.740345</td>\n",
              "      <td>0.291262</td>\n",
              "    </tr>\n",
              "    <tr>\n",
              "      <th>std</th>\n",
              "      <td>61.052778</td>\n",
              "      <td>0.456566</td>\n",
              "    </tr>\n",
              "    <tr>\n",
              "      <th>min</th>\n",
              "      <td>-78.841975</td>\n",
              "      <td>0.000000</td>\n",
              "    </tr>\n",
              "    <tr>\n",
              "      <th>25%</th>\n",
              "      <td>77.972315</td>\n",
              "      <td>0.000000</td>\n",
              "    </tr>\n",
              "    <tr>\n",
              "      <th>50%</th>\n",
              "      <td>115.991378</td>\n",
              "      <td>0.000000</td>\n",
              "    </tr>\n",
              "    <tr>\n",
              "      <th>75%</th>\n",
              "      <td>156.862219</td>\n",
              "      <td>1.000000</td>\n",
              "    </tr>\n",
              "    <tr>\n",
              "      <th>max</th>\n",
              "      <td>251.119602</td>\n",
              "      <td>1.000000</td>\n",
              "    </tr>\n",
              "  </tbody>\n",
              "</table>\n",
              "</div>"
            ],
            "text/plain": [
              "       LAX - Avg. Daily Miles Driven Per Hour  Marketing_Campaign\n",
              "count                              103.000000          103.000000\n",
              "mean                               115.740345            0.291262\n",
              "std                                 61.052778            0.456566\n",
              "min                                -78.841975            0.000000\n",
              "25%                                 77.972315            0.000000\n",
              "50%                                115.991378            0.000000\n",
              "75%                                156.862219            1.000000\n",
              "max                                251.119602            1.000000"
            ]
          },
          "metadata": {
            "tags": []
          },
          "execution_count": 89
        }
      ]
    },
    {
      "cell_type": "markdown",
      "metadata": {
        "id": "yCpAeyJdx1FN",
        "colab_type": "text"
      },
      "source": [
        "**The feature of 'LAX - Avg. Daily Miles Driven Per Hour' contains negative numbers, which are considered as outliers.**"
      ]
    },
    {
      "cell_type": "markdown",
      "metadata": {
        "id": "xHIgRvMfyerK",
        "colab_type": "text"
      },
      "source": [
        "## Remove Outliers"
      ]
    },
    {
      "cell_type": "code",
      "metadata": {
        "id": "nP8OdPenxzsu",
        "colab_type": "code",
        "colab": {
          "base_uri": "https://localhost:8080/",
          "height": 51
        },
        "outputId": "7e4cd330-90f6-4fb2-c459-57b50f305877"
      },
      "source": [
        "lax_starting_percentile = lax_df['LAX - Avg. Daily Miles Driven Per Hour'].quantile(.03)\n",
        "lax_ending_percentile = lax_df['LAX - Avg. Daily Miles Driven Per Hour'].quantile(.99)\n",
        "print(\"Starting percentile: \", lax_starting_percentile)\n",
        "print(\"Ending percentile: \", lax_ending_percentile)"
      ],
      "execution_count": 90,
      "outputs": [
        {
          "output_type": "stream",
          "text": [
            "Starting percentile:  2.1661233850000006\n",
            "Ending percentile:  241.89862250000007\n"
          ],
          "name": "stdout"
        }
      ]
    },
    {
      "cell_type": "markdown",
      "metadata": {
        "id": "otdsUgGO0T-2",
        "colab_type": "text"
      },
      "source": [
        "The outliers are loaded into a dataframe for future analysis. \n",
        "\n",
        "A summary of the dataframe contents can be found below."
      ]
    },
    {
      "cell_type": "code",
      "metadata": {
        "id": "c4ORjeKmykqt",
        "colab_type": "code",
        "colab": {
          "base_uri": "https://localhost:8080/",
          "height": 297
        },
        "outputId": "4a40d87e-f49b-4ea0-a99d-0134d8e22fe4"
      },
      "source": [
        "lax_df_outliers = lax_df.loc[((lax_df['LAX - Avg. Daily Miles Driven Per Hour'] <= lax_starting_percentile) | (lax_df['LAX - Avg. Daily Miles Driven Per Hour'] >= lax_ending_percentile))]\n",
        "lax_df_outliers['LAX - Avg. Daily Miles Driven Per Hour'].describe().to_frame()"
      ],
      "execution_count": 91,
      "outputs": [
        {
          "output_type": "execute_result",
          "data": {
            "text/html": [
              "<div>\n",
              "<style scoped>\n",
              "    .dataframe tbody tr th:only-of-type {\n",
              "        vertical-align: middle;\n",
              "    }\n",
              "\n",
              "    .dataframe tbody tr th {\n",
              "        vertical-align: top;\n",
              "    }\n",
              "\n",
              "    .dataframe thead th {\n",
              "        text-align: right;\n",
              "    }\n",
              "</style>\n",
              "<table border=\"1\" class=\"dataframe\">\n",
              "  <thead>\n",
              "    <tr style=\"text-align: right;\">\n",
              "      <th></th>\n",
              "      <th>LAX - Avg. Daily Miles Driven Per Hour</th>\n",
              "    </tr>\n",
              "  </thead>\n",
              "  <tbody>\n",
              "    <tr>\n",
              "      <th>count</th>\n",
              "      <td>6.000000</td>\n",
              "    </tr>\n",
              "    <tr>\n",
              "      <th>mean</th>\n",
              "      <td>63.234801</td>\n",
              "    </tr>\n",
              "    <tr>\n",
              "      <th>std</th>\n",
              "      <td>144.733785</td>\n",
              "    </tr>\n",
              "    <tr>\n",
              "      <th>min</th>\n",
              "      <td>-78.841975</td>\n",
              "    </tr>\n",
              "    <tr>\n",
              "      <th>25%</th>\n",
              "      <td>-23.120385</td>\n",
              "    </tr>\n",
              "    <tr>\n",
              "      <th>50%</th>\n",
              "      <td>-3.454124</td>\n",
              "    </tr>\n",
              "    <tr>\n",
              "      <th>75%</th>\n",
              "      <td>181.922893</td>\n",
              "    </tr>\n",
              "    <tr>\n",
              "      <th>max</th>\n",
              "      <td>251.119602</td>\n",
              "    </tr>\n",
              "  </tbody>\n",
              "</table>\n",
              "</div>"
            ],
            "text/plain": [
              "       LAX - Avg. Daily Miles Driven Per Hour\n",
              "count                                6.000000\n",
              "mean                                63.234801\n",
              "std                                144.733785\n",
              "min                                -78.841975\n",
              "25%                                -23.120385\n",
              "50%                                 -3.454124\n",
              "75%                                181.922893\n",
              "max                                251.119602"
            ]
          },
          "metadata": {
            "tags": []
          },
          "execution_count": 91
        }
      ]
    },
    {
      "cell_type": "markdown",
      "metadata": {
        "id": "W_cGZzsy1jAc",
        "colab_type": "text"
      },
      "source": [
        "Create a new dataframe that has outliers removed. "
      ]
    },
    {
      "cell_type": "code",
      "metadata": {
        "id": "fQo1Rsb20dh_",
        "colab_type": "code",
        "colab": {
          "base_uri": "https://localhost:8080/",
          "height": 297
        },
        "outputId": "d542a958-996a-49b2-bebd-c73c418743ed"
      },
      "source": [
        "lax_df_trimmed = lax_df.loc[((lax_df['LAX - Avg. Daily Miles Driven Per Hour'] > lax_starting_percentile) & (lax_df['LAX - Avg. Daily Miles Driven Per Hour'] < ending_percentile))]\n",
        "lax_df_trimmed.describe()"
      ],
      "execution_count": 92,
      "outputs": [
        {
          "output_type": "execute_result",
          "data": {
            "text/html": [
              "<div>\n",
              "<style scoped>\n",
              "    .dataframe tbody tr th:only-of-type {\n",
              "        vertical-align: middle;\n",
              "    }\n",
              "\n",
              "    .dataframe tbody tr th {\n",
              "        vertical-align: top;\n",
              "    }\n",
              "\n",
              "    .dataframe thead th {\n",
              "        text-align: right;\n",
              "    }\n",
              "</style>\n",
              "<table border=\"1\" class=\"dataframe\">\n",
              "  <thead>\n",
              "    <tr style=\"text-align: right;\">\n",
              "      <th></th>\n",
              "      <th>LAX - Avg. Daily Miles Driven Per Hour</th>\n",
              "      <th>Marketing_Campaign</th>\n",
              "    </tr>\n",
              "  </thead>\n",
              "  <tbody>\n",
              "    <tr>\n",
              "      <th>count</th>\n",
              "      <td>44.000000</td>\n",
              "      <td>44.000000</td>\n",
              "    </tr>\n",
              "    <tr>\n",
              "      <th>mean</th>\n",
              "      <td>72.696628</td>\n",
              "      <td>0.181818</td>\n",
              "    </tr>\n",
              "    <tr>\n",
              "      <th>std</th>\n",
              "      <td>26.797170</td>\n",
              "      <td>0.390154</td>\n",
              "    </tr>\n",
              "    <tr>\n",
              "      <th>min</th>\n",
              "      <td>12.684422</td>\n",
              "      <td>0.000000</td>\n",
              "    </tr>\n",
              "    <tr>\n",
              "      <th>25%</th>\n",
              "      <td>54.919692</td>\n",
              "      <td>0.000000</td>\n",
              "    </tr>\n",
              "    <tr>\n",
              "      <th>50%</th>\n",
              "      <td>77.972315</td>\n",
              "      <td>0.000000</td>\n",
              "    </tr>\n",
              "    <tr>\n",
              "      <th>75%</th>\n",
              "      <td>95.331284</td>\n",
              "      <td>0.000000</td>\n",
              "    </tr>\n",
              "    <tr>\n",
              "      <th>max</th>\n",
              "      <td>112.761516</td>\n",
              "      <td>1.000000</td>\n",
              "    </tr>\n",
              "  </tbody>\n",
              "</table>\n",
              "</div>"
            ],
            "text/plain": [
              "       LAX - Avg. Daily Miles Driven Per Hour  Marketing_Campaign\n",
              "count                               44.000000           44.000000\n",
              "mean                                72.696628            0.181818\n",
              "std                                 26.797170            0.390154\n",
              "min                                 12.684422            0.000000\n",
              "25%                                 54.919692            0.000000\n",
              "50%                                 77.972315            0.000000\n",
              "75%                                 95.331284            0.000000\n",
              "max                                112.761516            1.000000"
            ]
          },
          "metadata": {
            "tags": []
          },
          "execution_count": 92
        }
      ]
    },
    {
      "cell_type": "markdown",
      "metadata": {
        "id": "MtTbwcxV-LSB",
        "colab_type": "text"
      },
      "source": [
        "## Avg Daily Miles Driven Per Hour Distribution"
      ]
    },
    {
      "cell_type": "code",
      "metadata": {
        "id": "bekGsyRi1hYU",
        "colab_type": "code",
        "colab": {
          "base_uri": "https://localhost:8080/",
          "height": 527
        },
        "outputId": "704e80eb-7bba-458f-9789-132b9c4a7a66"
      },
      "source": [
        "ax = sns.distplot(lax_df_trimmed['LAX - Avg. Daily Miles Driven Per Hour'], bins = 8, color = '#0485d1')\n",
        "plt.figure(figsize=(23,8))"
      ],
      "execution_count": 93,
      "outputs": [
        {
          "output_type": "execute_result",
          "data": {
            "text/plain": [
              "<Figure size 1656x576 with 0 Axes>"
            ]
          },
          "metadata": {
            "tags": []
          },
          "execution_count": 93
        },
        {
          "output_type": "display_data",
          "data": {
            "image/png": "[encoded data removed]",
            "text/plain": [
              "<Figure size 1440x576 with 1 Axes>"
            ]
          },
          "metadata": {
            "tags": []
          }
        },
        {
          "output_type": "display_data",
          "data": {
            "text/plain": [
              "<Figure size 1656x576 with 0 Axes>"
            ]
          },
          "metadata": {
            "tags": []
          }
        }
      ]
    },
    {
      "cell_type": "markdown",
      "metadata": {
        "id": "me4D9IVT_2c0",
        "colab_type": "text"
      },
      "source": [
        "## Avg Daily Miles Driven Per Hour & Marketing Campaign Distribution"
      ]
    },
    {
      "cell_type": "code",
      "metadata": {
        "id": "grWsvojt_xhQ",
        "colab_type": "code",
        "colab": {
          "base_uri": "https://localhost:8080/",
          "height": 510
        },
        "outputId": "3372992a-2281-4200-a85e-9ac7123be331"
      },
      "source": [
        "data2 = lax_df_trimmed['LAX - Avg. Daily Miles Driven Per Hour'].loc[lax_df_trimmed['Marketing_Campaign'] == 0]\n",
        "data3 = lax_df_trimmed['LAX - Avg. Daily Miles Driven Per Hour'].loc[lax_df_trimmed['Marketing_Campaign'] == 1]\n",
        "\n",
        "ax = sns.distplot(data2, hist = True, color = '#75bbfd') \n",
        "ax = sns.distplot(data3, hist = True, color = '#cb416b') \n",
        "plt.legend(['Marketing Campaign NOT Deployed', 'Marketing Campaign Deployed'])"
      ],
      "execution_count": 94,
      "outputs": [
        {
          "output_type": "execute_result",
          "data": {
            "text/plain": [
              "<matplotlib.legend.Legend at 0x7f675cfc2c50>"
            ]
          },
          "metadata": {
            "tags": []
          },
          "execution_count": 94
        },
        {
          "output_type": "display_data",
          "data": {
            "image/png": "[encoded data removed]",
            "text/plain": [
              "<Figure size 1440x576 with 1 Axes>"
            ]
          },
          "metadata": {
            "tags": []
          }
        }
      ]
    },
    {
      "cell_type": "code",
      "metadata": {
        "id": "hV5BOQsvAADc",
        "colab_type": "code",
        "colab": {
          "base_uri": "https://localhost:8080/",
          "height": 646
        },
        "outputId": "617c9f59-9758-42e3-ee41-8f1bf6550d40"
      },
      "source": [
        "data2"
      ],
      "execution_count": 95,
      "outputs": [
        {
          "output_type": "execute_result",
          "data": {
            "text/plain": [
              "4      12.684422\n",
              "5      22.193877\n",
              "6      23.014184\n",
              "7      27.985561\n",
              "8      31.215784\n",
              "9      37.140945\n",
              "10     43.086183\n",
              "11     43.896901\n",
              "12     49.446477\n",
              "13     49.645010\n",
              "14     51.553516\n",
              "16     56.532929\n",
              "17     59.339844\n",
              "18     60.606210\n",
              "19     60.709901\n",
              "20     61.511462\n",
              "24     74.050376\n",
              "25     77.612384\n",
              "26     78.332246\n",
              "27     78.978413\n",
              "28     82.147571\n",
              "30     89.355010\n",
              "31     89.834985\n",
              "32     90.219550\n",
              "33     91.129120\n",
              "34     92.198142\n",
              "35     94.731985\n",
              "36     94.863301\n",
              "38     98.027433\n",
              "39     98.086304\n",
              "40     98.557990\n",
              "42    100.214622\n",
              "44    103.886019\n",
              "45    104.448050\n",
              "46    111.598548\n",
              "47    112.761516\n",
              "Name: LAX - Avg. Daily Miles Driven Per Hour, dtype: float64"
            ]
          },
          "metadata": {
            "tags": []
          },
          "execution_count": 95
        }
      ]
    },
    {
      "cell_type": "markdown",
      "metadata": {
        "id": "0c4GBFV7BMcG",
        "colab_type": "text"
      },
      "source": [
        "# **2.2 Hypothesis Testing Result**"
      ]
    },
    {
      "cell_type": "code",
      "metadata": {
        "id": "-j45DAz1A1VB",
        "colab_type": "code",
        "colab": {
          "base_uri": "https://localhost:8080/",
          "height": 51
        },
        "outputId": "282b43dc-4d32-4331-a469-16b5a9c99769"
      },
      "source": [
        "# Compare samples\n",
        "stat, p = f_oneway(data2, data3)\n",
        "print('Statistics = %.3f, p = %.3f' % (stat, p))\n",
        "\n",
        "# Interpret\n",
        "alpha = 0.05\n",
        "if p > alpha:\n",
        "\tprint('Same distributions (fail to reject H0)')\n",
        "else:\n",
        "\tprint('Different distributions (reject H0)')"
      ],
      "execution_count": 97,
      "outputs": [
        {
          "output_type": "stream",
          "text": [
            "Statistics = 0.910, p = 0.345\n",
            "Same distributions (fail to reject H0)\n"
          ],
          "name": "stdout"
        }
      ]
    },
    {
      "cell_type": "markdown",
      "metadata": {
        "id": "LoIPiTkHE1Zj",
        "colab_type": "text"
      },
      "source": [
        "# **Part 3 - Conclusion**"
      ]
    },
    {
      "cell_type": "markdown",
      "metadata": {
        "id": "zch5fJzNFfpf",
        "colab_type": "text"
      },
      "source": [
        "## Q1. Analyze the SFO and LAX data sets and determine if either marketing campaign was successful in raising the average miles driven per Uber driver.\n",
        "\n",
        "For SFO dataset:  \n",
        "- The result is p = 0.000. If the p-value is less than 0.05, we reject the null hypothesis. Meaning that marketing campaign **does not help in raising the average miles driven per Uber driver.**\n",
        "- However, I found that even the null hypothesis was rejected, alternative hypothesis was not supported. On the contrary, the distribution plot shows that **the average daily miles driven per hour when the marketing campaign was in service is less than the average daily miles driven per hour when the marketing campaign was not in action.** How does this happened? I assume that is because we only consider the relationship between average mile and marketing campaign. There are other features affecting the average miles driven per Uber driver. For future work, we should consider other factors. (refer below Q2)\n",
        "\n",
        "For LAX dataset: \n",
        "\n",
        "- The result is p =  0.345. If the p-value is greater than 0.05, **we failed to reject the null hypothesis. The distribution plot shows that marketing campaign was successful in raising the average miles driven per Uber driver.**\n",
        "\n",
        "\n"
      ]
    },
    {
      "cell_type": "markdown",
      "metadata": {
        "id": "vLuYLgLFT9re",
        "colab_type": "text"
      },
      "source": [
        "## Q2. What factors may affect the validity of this study?\n",
        " \n",
        "- Weather: sunny day or rainy day might bringing a variation in the average miles driven per Uber driver. On a rainy day, probably more people taking Uber or not taking Uber, that affect the average mile driven by per driver. \n",
        "- Time: weekday, weekend, and holiday season may impact. For example, the average miles driven per Uber driver may increase, during weekend or holiday season, since more people or tourists ride Uber.\n",
        "- Economic: during economic recession, the number of rides might decreased, which reducing the average miles driven per Uber driver.\n",
        "- Competitors: if the competitors such as Lyft or Carpool services appear and offer the coupons or lower pricing may impact the average miles driven per Uber driver.\n",
        "\n"
      ]
    }
  ],
  "metadata": {
    "colab": {
      "name": "ALY 6015 - SpringA 2020 -Mia (Yuhsin Hou) # HW2.5 - Hypothesis - colab.ipynb",
      "provenance": [],
      "collapsed_sections": []
    },
    "kernelspec": {
      "name": "python3",
      "display_name": "Python 3"
    }
  },
  "nbformat": 4,
  "nbformat_minor": 0
}